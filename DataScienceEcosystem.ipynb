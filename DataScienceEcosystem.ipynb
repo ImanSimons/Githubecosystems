{
 "cells": [
  {
   "cell_type": "markdown",
   "id": "5708c374-d953-42fc-9348-ad131d01abe6",
   "metadata": {},
   "source": [
    "# Data Science Tools and Ecosystem"
   ]
  },
  {
   "cell_type": "markdown",
   "id": "fee97516-3ae1-467d-9fbc-57bf04c340db",
   "metadata": {},
   "source": [
    "In this notebook, Data Sciense tools and ecosystems are summarized."
   ]
  },
  {
   "cell_type": "markdown",
   "id": "09fa457c-960a-4a7a-8535-ebbea520c134",
   "metadata": {},
   "source": [
    "**Objectives:**\n",
    "- List popular languages for Data Science\n",
    "- List commanly used libraries by Data Scientists\n",
    "- Develpment environment open scource tools used "
   ]
  },
  {
   "cell_type": "markdown",
   "id": "0f3a27ce-43c0-4139-9c8e-3cb368559c4a",
   "metadata": {},
   "source": [
    "Some of the popular languages that data scientist use are :\n",
    " 1) Python\n",
    " 2) R\n",
    " 3) SQL\n",
    " 4) C++"
   ]
  },
  {
   "cell_type": "markdown",
   "id": "af163fac-7308-40c5-b655-af4e586d8cfb",
   "metadata": {},
   "source": [
    "Some of the most commonly used libraries by data scientists include:\n",
    " 1) Pandas\n",
    " 2) Numpy\n",
    " 3) Matplotlib\n",
    " 4) Seaborn"
   ]
  },
  {
   "cell_type": "markdown",
   "id": "e5d9a92e-eda8-4149-b1f2-2caefdf147a1",
   "metadata": {},
   "source": [
    "| Data Science Tools |\n",
    "|--------------------|\n",
    "| Jupyter notebooks |\n",
    "| Apache Zeppelin |\n",
    "| R Studios |"
   ]
  },
  {
   "cell_type": "markdown",
   "id": "5cf461f9-cd03-4aa1-bf66-8101c515a36e",
   "metadata": {},
   "source": [
    "### Below are a few examples of evaluating arithmetic expressions in Python"
   ]
  },
  {
   "cell_type": "markdown",
   "id": "65ef86f3-3d6e-4b89-9d97-a79ec5ea3fc7",
   "metadata": {},
   "source": [
    "This is a simple arithmetics expression to multiply then add integers"
   ]
  },
  {
   "cell_type": "code",
   "execution_count": 4,
   "id": "1a3c1317-4dbc-4c13-844a-0e7946aa4591",
   "metadata": {},
   "outputs": [
    {
     "data": {
      "text/plain": [
       "17"
      ]
     },
     "execution_count": 4,
     "metadata": {},
     "output_type": "execute_result"
    }
   ],
   "source": [
    "(3*4)+5"
   ]
  },
  {
   "cell_type": "markdown",
   "id": "5f254820-4926-4071-be80-68645ebefc24",
   "metadata": {},
   "source": [
    "This will convert 200 minutes to hours by dividing by 60"
   ]
  },
  {
   "cell_type": "code",
   "execution_count": 5,
   "id": "39cf118c-5c70-459b-9956-ec3fce390e26",
   "metadata": {},
   "outputs": [
    {
     "data": {
      "text/plain": [
       "3.3333333333333335"
      ]
     },
     "execution_count": 5,
     "metadata": {},
     "output_type": "execute_result"
    }
   ],
   "source": [
    "(200/60)"
   ]
  },
  {
   "cell_type": "markdown",
   "id": "6b87341b-67ed-42d2-98f0-8be78c9f3e58",
   "metadata": {},
   "source": [
    "## Author \n",
    "Iman Simons"
   ]
  },
  {
   "cell_type": "code",
   "execution_count": null,
   "id": "4d0f9c29-7d8b-45d0-8f12-c8332b4180a1",
   "metadata": {},
   "outputs": [],
   "source": []
  }
 ],
 "metadata": {
  "kernelspec": {
   "display_name": "Python 3 (ipykernel)",
   "language": "python",
   "name": "python3"
  },
  "language_info": {
   "codemirror_mode": {
    "name": "ipython",
    "version": 3
   },
   "file_extension": ".py",
   "mimetype": "text/x-python",
   "name": "python",
   "nbconvert_exporter": "python",
   "pygments_lexer": "ipython3",
   "version": "3.11.7"
  }
 },
 "nbformat": 4,
 "nbformat_minor": 5
}
